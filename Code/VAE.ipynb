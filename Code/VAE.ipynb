{
 "cells": [
  {
   "cell_type": "code",
   "execution_count": 2,
   "id": "1e187bf8-a235-463c-ae77-b8ba975cbbf8",
   "metadata": {},
   "outputs": [],
   "source": [
    "import os\n",
    "\n",
    "import numpy as np\n",
    "import matplotlib.pyplot as plt\n",
    "%matplotlib inline\n",
    "\n",
    "import torch\n",
    "import torch.nn as nn\n",
    "import torch.nn.functional as F\n",
    "import torch.optim as optim\n",
    "\n",
    "import torchvision\n",
    "from torchvision import transforms\n",
    "from torchvision.utils import make_grid\n",
    "from torchvision.datasets import FashionMNIST\n",
    "\n",
    "import torchbearer\n",
    "import torchbearer.callbacks as callbacks\n",
    "from torchbearer import Trial, state_key\n",
    "\n",
    "MU = state_key('mu')\n",
    "LOGVAR = state_key('logvar')"
   ]
  },
  {
   "cell_type": "code",
   "execution_count": null,
   "id": "d5c6fe31-1a8c-42b5-88d5-5051998ce7ac",
   "metadata": {},
   "outputs": [],
   "source": [
    "class VAE(nn.Module):\n",
    "    def __init__(self, latent_size):\n",
    "        super(VAE, self).__init__()\n",
    "        self.latent_size = latent_size\n",
    "\n",
    "        self.encoder = nn.Sequential(\n",
    "            nn.Conv2d(1, 32, 4, 1, 2),   # B,  32, 28, 28\n",
    "            nn.ReLU(True),\n",
    "            nn.Conv2d(32, 32, 4, 2, 1),  # B,  32, 14, 14\n",
    "            nn.ReLU(True),\n",
    "            nn.Conv2d(32, 64, 4, 2, 1),  # B,  64,  7, 7\n",
    "        )\n",
    "        \n",
    "        self.mu = nn.Linear(64 * 7 * 7, latent_size)\n",
    "        self.logvar = nn.Linear(64 * 7 * 7, latent_size)\n",
    "        \n",
    "        self.upsample = nn.Linear(latent_size, 64 * 7 * 7)\n",
    "        self.decoder = nn.Sequential(\n",
    "            nn.ConvTranspose2d(64, 32, 4, 2, 1), # B,  64,  14,  14\n",
    "            nn.ReLU(True),\n",
    "            nn.ConvTranspose2d(32, 32, 4, 2, 1, 1), # B,  32, 28, 28\n",
    "            nn.ReLU(True),\n",
    "            nn.ConvTranspose2d(32, 1, 4, 1, 2)   # B, 1, 28, 28\n",
    "        )\n",
    "\n",
    "    def reparameterize(self, mu, logvar):\n",
    "        if self.training:\n",
    "            std = torch.exp(0.5*logvar)\n",
    "            eps = torch.randn_like(std)\n",
    "            return eps.mul(std).add_(mu)\n",
    "        else:\n",
    "            return mu\n",
    "\n",
    "    def forward(self, x, state):\n",
    "        image = x\n",
    "        x = self.encoder(x).relu().view(x.size(0), -1)\n",
    "        \n",
    "        mu = self.mu(x)\n",
    "        logvar = self.logvar(x)\n",
    "        sample = self.reparameterize(mu, logvar)\n",
    "        \n",
    "        result = self.decoder(self.upsample(sample).relu().view(-1, 64, 7, 7))\n",
    "        \n",
    "        if state is not None:\n",
    "            state[torchbearer.Y_TRUE] = image\n",
    "            state[MU] = mu\n",
    "            state[LOGVAR] = logvar\n",
    "        \n",
    "        return result"
   ]
  },
  {
   "cell_type": "code",
   "execution_count": null,
   "id": "a36115c7-42ad-4099-9b27-7385bc6c5167",
   "metadata": {},
   "outputs": [],
   "source": [
    "transform = transforms.Compose([transforms.ToTensor()])  # No augmentation\n",
    "trainset = FashionMNIST(root='../', train=True, transform=transform)\n",
    "testset = FashionMNIST(root='../', train=False, transform=transform)\n",
    "traingen = torch.utils.data.DataLoader(trainset, batch_size=128, shuffle=True, num_workers=8)\n",
    "testgen = torch.utils.data.DataLoader(testset, batch_size=128, shuffle=False, num_workers=8)"
   ]
  },
  {
   "cell_type": "code",
   "execution_count": null,
   "id": "7c978dec-0bfc-4828-a53d-5d7f34a4b122",
   "metadata": {},
   "outputs": [],
   "source": [
    "def beta_kl(mu_key, logvar_key, beta=5):\n",
    "    @callbacks.add_to_loss\n",
    "    def callback(state):\n",
    "        mu = state[mu_key]\n",
    "        logvar = state[logvar_key]\n",
    "        return -0.5 * torch.sum(1 + logvar - mu.pow(2) - logvar.exp()) * beta\n",
    "    return callback"
   ]
  },
  {
   "cell_type": "code",
   "execution_count": null,
   "id": "c0622fc2-d784-4105-ad5c-6a26a251a6d6",
   "metadata": {},
   "outputs": [],
   "source": [
    "def plot_progress(key=torchbearer.Y_PRED, num_images=100, nrow=10):\n",
    "    @callbacks.on_step_validation\n",
    "    @callbacks.once_per_epoch\n",
    "    def callback(state):\n",
    "        images = state[key]\n",
    "        image = make_grid(images[:num_images], nrow=nrow, normalize=True)[0, :, :]\n",
    "        plt.imshow(image.detach().cpu().numpy(), cmap=\"gray\")\n",
    "        plt.show()\n",
    "    \n",
    "    return callback"
   ]
  },
  {
   "cell_type": "code",
   "execution_count": null,
   "id": "d20252ff-c83c-4d54-bc40-8b481b591fbc",
   "metadata": {},
   "outputs": [],
   "source": [
    "model = VAE(latent_size=10)\n",
    "optimizer = optim.Adam(filter(lambda p: p.requires_grad, model.parameters()), lr=5e-4)\n",
    "trial = Trial(model, optimizer, nn.MSELoss(reduction='sum'), metrics=['acc', 'loss'], callbacks=[\n",
    "    beta_kl(MU, LOGVAR),\n",
    "    callbacks.ConsolePrinter(),\n",
    "    plot_progress()\n",
    "], verbose=1).with_generators(train_generator=traingen, test_generator=testgen)\n",
    "trial.to('cuda')\n",
    "trial.run(20)\n",
    "trial.evaluate(verbose=0, data_key=torchbearer.TEST_DATA)"
   ]
  }
 ],
 "metadata": {
  "kernelspec": {
   "display_name": "Python 3",
   "language": "python",
   "name": "python3"
  },
  "language_info": {
   "codemirror_mode": {
    "name": "ipython",
    "version": 3
   },
   "file_extension": ".py",
   "mimetype": "text/x-python",
   "name": "python",
   "nbconvert_exporter": "python",
   "pygments_lexer": "ipython3",
   "version": "3.9.2"
  }
 },
 "nbformat": 4,
 "nbformat_minor": 5
}
